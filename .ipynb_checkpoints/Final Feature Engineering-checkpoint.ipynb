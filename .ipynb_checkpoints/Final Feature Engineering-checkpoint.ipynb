{
 "cells": [
  {
   "cell_type": "code",
   "execution_count": 59,
   "metadata": {},
   "outputs": [],
   "source": [
    "import numpy as np\n",
    "import pandas as pd\n",
    "from geopy.distance import vincenty"
   ]
  },
  {
   "cell_type": "code",
   "execution_count": 60,
   "metadata": {},
   "outputs": [],
   "source": [
    "data = pd.read_csv('data/data.csv')"
   ]
  },
  {
   "cell_type": "code",
   "execution_count": 61,
   "metadata": {},
   "outputs": [],
   "source": [
    "def calc_distance(x):\n",
    "    orchard = (1.303991, 103.831782)\n",
    "    place2_coords = (x.lat, x.long)\n",
    "    return vincenty(orchard, place2_coords).km"
   ]
  },
  {
   "cell_type": "code",
   "execution_count": 62,
   "metadata": {},
   "outputs": [],
   "source": [
    "feature = data.iloc[:,:-1].copy()\n",
    "price = data.iloc[:,-1].copy()"
   ]
  },
  {
   "cell_type": "code",
   "execution_count": 63,
   "metadata": {},
   "outputs": [],
   "source": [
    "price = pd.DataFrame(price, columns=['price_sqft'])"
   ]
  },
  {
   "cell_type": "code",
   "execution_count": 64,
   "metadata": {},
   "outputs": [
    {
     "name": "stderr",
     "output_type": "stream",
     "text": [
      "C:\\Users\\TNG\\Anaconda3\\lib\\site-packages\\ipykernel_launcher.py:4: DeprecationWarning: Vincenty is deprecated and is going to be removed in geopy 2.0. Use `geopy.distance.geodesic` (or the default `geopy.distance.distance`) instead, which is more accurate and always converges.\n",
      "  after removing the cwd from sys.path.\n"
     ]
    },
    {
     "data": {
      "text/html": [
       "<div>\n",
       "<style scoped>\n",
       "    .dataframe tbody tr th:only-of-type {\n",
       "        vertical-align: middle;\n",
       "    }\n",
       "\n",
       "    .dataframe tbody tr th {\n",
       "        vertical-align: top;\n",
       "    }\n",
       "\n",
       "    .dataframe thead th {\n",
       "        text-align: right;\n",
       "    }\n",
       "</style>\n",
       "<table border=\"1\" class=\"dataframe\">\n",
       "  <thead>\n",
       "    <tr style=\"text-align: right;\">\n",
       "      <th></th>\n",
       "      <th>area</th>\n",
       "      <th>bathroom</th>\n",
       "      <th>bedroom</th>\n",
       "      <th>lat</th>\n",
       "      <th>long</th>\n",
       "      <th>school</th>\n",
       "      <th>mrt</th>\n",
       "      <th>age</th>\n",
       "      <th>type_condo</th>\n",
       "      <th>type_hdb</th>\n",
       "      <th>bathroom_area</th>\n",
       "      <th>bedroom_area</th>\n",
       "      <th>remaining_area</th>\n",
       "      <th>convenience</th>\n",
       "      <th>distance_from_central</th>\n",
       "    </tr>\n",
       "  </thead>\n",
       "  <tbody>\n",
       "    <tr>\n",
       "      <td>0</td>\n",
       "      <td>1270</td>\n",
       "      <td>2</td>\n",
       "      <td>3</td>\n",
       "      <td>1.345383</td>\n",
       "      <td>103.746046</td>\n",
       "      <td>3</td>\n",
       "      <td>0</td>\n",
       "      <td>25</td>\n",
       "      <td>0</td>\n",
       "      <td>1</td>\n",
       "      <td>127.0</td>\n",
       "      <td>476.250</td>\n",
       "      <td>666.750</td>\n",
       "      <td>3</td>\n",
       "      <td>10.582454</td>\n",
       "    </tr>\n",
       "    <tr>\n",
       "      <td>1</td>\n",
       "      <td>1270</td>\n",
       "      <td>2</td>\n",
       "      <td>3</td>\n",
       "      <td>1.373571</td>\n",
       "      <td>103.851554</td>\n",
       "      <td>2</td>\n",
       "      <td>1</td>\n",
       "      <td>40</td>\n",
       "      <td>0</td>\n",
       "      <td>1</td>\n",
       "      <td>127.0</td>\n",
       "      <td>476.250</td>\n",
       "      <td>666.750</td>\n",
       "      <td>3</td>\n",
       "      <td>8.002258</td>\n",
       "    </tr>\n",
       "    <tr>\n",
       "      <td>2</td>\n",
       "      <td>990</td>\n",
       "      <td>2</td>\n",
       "      <td>2</td>\n",
       "      <td>1.315350</td>\n",
       "      <td>103.770855</td>\n",
       "      <td>2</td>\n",
       "      <td>0</td>\n",
       "      <td>43</td>\n",
       "      <td>0</td>\n",
       "      <td>1</td>\n",
       "      <td>99.0</td>\n",
       "      <td>247.500</td>\n",
       "      <td>643.500</td>\n",
       "      <td>2</td>\n",
       "      <td>6.895952</td>\n",
       "    </tr>\n",
       "    <tr>\n",
       "      <td>3</td>\n",
       "      <td>1400</td>\n",
       "      <td>2</td>\n",
       "      <td>3</td>\n",
       "      <td>1.448271</td>\n",
       "      <td>103.813344</td>\n",
       "      <td>4</td>\n",
       "      <td>0</td>\n",
       "      <td>21</td>\n",
       "      <td>0</td>\n",
       "      <td>1</td>\n",
       "      <td>140.0</td>\n",
       "      <td>525.000</td>\n",
       "      <td>735.000</td>\n",
       "      <td>4</td>\n",
       "      <td>16.085163</td>\n",
       "    </tr>\n",
       "    <tr>\n",
       "      <td>4</td>\n",
       "      <td>905</td>\n",
       "      <td>2</td>\n",
       "      <td>3</td>\n",
       "      <td>1.372392</td>\n",
       "      <td>103.889038</td>\n",
       "      <td>6</td>\n",
       "      <td>1</td>\n",
       "      <td>35</td>\n",
       "      <td>0</td>\n",
       "      <td>1</td>\n",
       "      <td>90.5</td>\n",
       "      <td>339.375</td>\n",
       "      <td>475.125</td>\n",
       "      <td>7</td>\n",
       "      <td>9.889811</td>\n",
       "    </tr>\n",
       "  </tbody>\n",
       "</table>\n",
       "</div>"
      ],
      "text/plain": [
       "   area  bathroom  bedroom       lat        long  school  mrt  age  \\\n",
       "0  1270         2        3  1.345383  103.746046       3    0   25   \n",
       "1  1270         2        3  1.373571  103.851554       2    1   40   \n",
       "2   990         2        2  1.315350  103.770855       2    0   43   \n",
       "3  1400         2        3  1.448271  103.813344       4    0   21   \n",
       "4   905         2        3  1.372392  103.889038       6    1   35   \n",
       "\n",
       "   type_condo  type_hdb  bathroom_area  bedroom_area  remaining_area  \\\n",
       "0           0         1          127.0       476.250         666.750   \n",
       "1           0         1          127.0       476.250         666.750   \n",
       "2           0         1           99.0       247.500         643.500   \n",
       "3           0         1          140.0       525.000         735.000   \n",
       "4           0         1           90.5       339.375         475.125   \n",
       "\n",
       "   convenience  distance_from_central  \n",
       "0            3              10.582454  \n",
       "1            3               8.002258  \n",
       "2            2               6.895952  \n",
       "3            4              16.085163  \n",
       "4            7               9.889811  "
      ]
     },
     "execution_count": 64,
     "metadata": {},
     "output_type": "execute_result"
    }
   ],
   "source": [
    "feature['bathroom_area'] = 0.05 * feature['bathroom'] * feature['area']\n",
    "feature['bedroom_area'] = 0.125 * feature['bedroom'] * feature['area']\n",
    "feature['remaining_area'] = feature['area'] - feature['bathroom_area'] - feature['bedroom_area']\n",
    "feature['convenience'] = feature['mrt'] + feature['school']\n",
    "feature['distance_from_central'] = feature.apply(calc_distance, axis = 1)\n",
    "feature.head()"
   ]
  },
  {
   "cell_type": "code",
   "execution_count": 65,
   "metadata": {},
   "outputs": [],
   "source": [
    "data = feature.join(price)\n",
    "data = data[[c for c in data if c not in ['type_condo', 'type_hdb', 'price_sqft']] \\\n",
    "            + ['type_condo', 'type_hdb', 'price_sqft']]"
   ]
  },
  {
   "cell_type": "code",
   "execution_count": 66,
   "metadata": {},
   "outputs": [],
   "source": [
    "data.to_csv('data/feature_eng_data.csv')"
   ]
  },
  {
   "cell_type": "code",
   "execution_count": null,
   "metadata": {},
   "outputs": [],
   "source": []
  }
 ],
 "metadata": {
  "kernelspec": {
   "display_name": "Python 3",
   "language": "python",
   "name": "python3"
  },
  "language_info": {
   "codemirror_mode": {
    "name": "ipython",
    "version": 3
   },
   "file_extension": ".py",
   "mimetype": "text/x-python",
   "name": "python",
   "nbconvert_exporter": "python",
   "pygments_lexer": "ipython3",
   "version": "3.7.4"
  }
 },
 "nbformat": 4,
 "nbformat_minor": 2
}
