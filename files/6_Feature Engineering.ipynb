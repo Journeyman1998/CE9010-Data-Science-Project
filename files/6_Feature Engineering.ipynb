{
 "cells": [
  {
   "cell_type": "code",
   "execution_count": null,
   "metadata": {},
   "outputs": [],
   "source": [
    "import numpy as np\n",
    "import pandas as pd\n",
    "from geopy.distance import distance"
   ]
  },
  {
   "cell_type": "markdown",
   "metadata": {},
   "source": [
    "## 6. Feature Engineering - Other Features <a name='eng-2'></a>\n",
    "[Back to top](#Contents)<br>"
   ]
  },
  {
   "cell_type": "markdown",
   "metadata": {},
   "source": [
    "From the coordinates of the apartments, we can engineer a few features to better allow our models to predict the prices."
   ]
  },
  {
   "cell_type": "markdown",
   "metadata": {},
   "source": [
    "### 6.1 Evaluate the number of MRT and primary schools near each listing <a name='eng-21'></a>"
   ]
  },
  {
   "cell_type": "markdown",
   "metadata": {},
   "source": [
    "We obtained two files, <b>school.csv</b> and <b>mrt.csv</b>.\n",
    "\n",
    "They contain the coordinates of primary schools and MRT stations respectively. From these two files, we can get the number of MRT stations and primary schools near each listing, using the <b>geopy</b> package.\n",
    "\n",
    "The source for <b>mrt.csv</b> is <a>https://www.kaggle.com/yxlee245/singapore-train-station-coordinates</a>.\n",
    "The file <b>school.csv</b> is by courtesy of Cassandra."
   ]
  },
  {
   "cell_type": "code",
   "execution_count": 70,
   "metadata": {},
   "outputs": [],
   "source": [
    "house = pd.read_csv('../data/data_cleaned.csv')"
   ]
  },
  {
   "cell_type": "code",
   "execution_count": 71,
   "metadata": {},
   "outputs": [],
   "source": [
    "# helper function to calculate distance between two points\n",
    "# function not vector-friendly due to 'geopy.distance'\n",
    "def facilities(coord,house_coord,dis):\n",
    "    nearby= np.zeros(len(house_coord))[:,None]\n",
    "    for i in range(len(house_coord)):\n",
    "        count = 0\n",
    "        for j in range(len(coord)):\n",
    "            cal = distance(house_coord[i],coord[j]).m\n",
    "            if cal <= dis:\n",
    "                count +=1        \n",
    "        nearby[i]= count\n",
    "    return nearby"
   ]
  },
  {
   "cell_type": "markdown",
   "metadata": {},
   "source": [
    "For MRT station, we define nearby as 500m within range, as it is a reasonable distance for a commuting person.\n",
    "\n",
    "\n",
    "For primary schools, we define a range of 1km distance instead. This is important for some primary school with more registrants than vacancies, as there would be priority admission be given based on the child's citizenship and home-to-school distance. The first priority is given to students living within 1km of the school. "
   ]
  },
  {
   "cell_type": "code",
   "execution_count": 72,
   "metadata": {},
   "outputs": [],
   "source": [
    "mrt = pd.read_csv('../data/mrt.csv')\n",
    "school = pd.read_csv('../data/school.csv')\n",
    "\n",
    "school.drop(columns=['name'], inplace=True)\n",
    "mrt.drop(columns=['station_name', 'type'], inplace=True)\n",
    "\n",
    "house_coord = np.array(house[['latitude', 'longitude']])\n",
    "mrt_coord = np.array(mrt)\n",
    "sch_coord = np.array(school)\n",
    "\n",
    "nearby_mrt = facilities(mrt_coord,house_coord,500)\n",
    "nearby_sch = facilities(sch_coord, house_coord, 1000)"
   ]
  },
  {
   "cell_type": "markdown",
   "metadata": {},
   "source": [
    "### 6.2 Evaluate the age of each apartment <a name='eng-22'></a>"
   ]
  },
  {
   "cell_type": "markdown",
   "metadata": {},
   "source": [
    "We extract the age of the apartment, instead of using the year of construction."
   ]
  },
  {
   "cell_type": "code",
   "execution_count": 73,
   "metadata": {
    "scrolled": true
   },
   "outputs": [],
   "source": [
    "built_on = house['Built'].astype(int)\n",
    "age_of_building = (2020 - built_on)[:,None]\n",
    "house.drop(columns=['Built'], inplace=True)"
   ]
  },
  {
   "cell_type": "markdown",
   "metadata": {},
   "source": [
    "### 6.3 Other apartment-related features <a name='eng-23'></a>"
   ]
  },
  {
   "cell_type": "markdown",
   "metadata": {},
   "source": [
    "We define a few other features related to the apartment, such as total bathroom area, total bedroom area, remaining living area, and a convenience score (MRT + School). Then, we add the engineered features to the housing data."
   ]
  },
  {
   "cell_type": "code",
   "execution_count": 74,
   "metadata": {},
   "outputs": [],
   "source": [
    "# Helper function to calculate distance between two coordinates\n",
    "def dist_bet_coords(x):\n",
    "    orchard = (1.303991, 103.831782)\n",
    "    place2_coords = (x.latitude, x.longitude)\n",
    "    return distance(orchard, place2_coords).km\n",
    "\n",
    "\n",
    "house['school'] = nearby_sch\n",
    "house['mrt'] = nearby_mrt\n",
    "house['age_of_building'] = age_of_building\n",
    "house['bathroom_area'] = 0.05 * house['bathroom'] * house['area']\n",
    "house['bedroom_area'] = 0.125 * house['bedroom'] * house['area']\n",
    "house['remaining_area'] = house['area'] - house['bathroom_area'] - house['bedroom_area']\n",
    "house['convenience'] = house['mrt'] + house['school']\n",
    "house['distance_from_central'] = house.apply(dist_bet_coords, axis = 1)"
   ]
  },
  {
   "cell_type": "code",
   "execution_count": 75,
   "metadata": {},
   "outputs": [
    {
     "name": "stdout",
     "output_type": "stream",
     "text": [
      "Number of features:  15\n"
     ]
    },
    {
     "data": {
      "text/html": [
       "<div>\n",
       "<style scoped>\n",
       "    .dataframe tbody tr th:only-of-type {\n",
       "        vertical-align: middle;\n",
       "    }\n",
       "\n",
       "    .dataframe tbody tr th {\n",
       "        vertical-align: top;\n",
       "    }\n",
       "\n",
       "    .dataframe thead th {\n",
       "        text-align: right;\n",
       "    }\n",
       "</style>\n",
       "<table border=\"1\" class=\"dataframe\">\n",
       "  <thead>\n",
       "    <tr style=\"text-align: right;\">\n",
       "      <th></th>\n",
       "      <th>area</th>\n",
       "      <th>bathroom</th>\n",
       "      <th>bedroom</th>\n",
       "      <th>Type</th>\n",
       "      <th>latitude</th>\n",
       "      <th>longitude</th>\n",
       "      <th>school</th>\n",
       "      <th>mrt</th>\n",
       "      <th>age_of_building</th>\n",
       "      <th>bathroom_area</th>\n",
       "      <th>bedroom_area</th>\n",
       "      <th>remaining_area</th>\n",
       "      <th>convenience</th>\n",
       "      <th>distance_from_central</th>\n",
       "      <th>price_sqft</th>\n",
       "    </tr>\n",
       "  </thead>\n",
       "  <tbody>\n",
       "    <tr>\n",
       "      <th>0</th>\n",
       "      <td>1270.0</td>\n",
       "      <td>2</td>\n",
       "      <td>3</td>\n",
       "      <td>HDB</td>\n",
       "      <td>1.345383</td>\n",
       "      <td>103.746047</td>\n",
       "      <td>3.0</td>\n",
       "      <td>0.0</td>\n",
       "      <td>25</td>\n",
       "      <td>127.0</td>\n",
       "      <td>476.25</td>\n",
       "      <td>666.75</td>\n",
       "      <td>3.0</td>\n",
       "      <td>10.582454</td>\n",
       "      <td>429.92</td>\n",
       "    </tr>\n",
       "    <tr>\n",
       "      <th>1</th>\n",
       "      <td>1066.0</td>\n",
       "      <td>2</td>\n",
       "      <td>2</td>\n",
       "      <td>Condo</td>\n",
       "      <td>1.386702</td>\n",
       "      <td>103.743679</td>\n",
       "      <td>3.0</td>\n",
       "      <td>1.0</td>\n",
       "      <td>16</td>\n",
       "      <td>106.6</td>\n",
       "      <td>266.50</td>\n",
       "      <td>692.90</td>\n",
       "      <td>4.0</td>\n",
       "      <td>13.408199</td>\n",
       "      <td>919.32</td>\n",
       "    </tr>\n",
       "    <tr>\n",
       "      <th>2</th>\n",
       "      <td>926.0</td>\n",
       "      <td>2</td>\n",
       "      <td>2</td>\n",
       "      <td>Condo</td>\n",
       "      <td>1.295316</td>\n",
       "      <td>103.827096</td>\n",
       "      <td>1.0</td>\n",
       "      <td>0.0</td>\n",
       "      <td>6</td>\n",
       "      <td>92.6</td>\n",
       "      <td>231.50</td>\n",
       "      <td>601.90</td>\n",
       "      <td>1.0</td>\n",
       "      <td>1.091837</td>\n",
       "      <td>2699.78</td>\n",
       "    </tr>\n",
       "    <tr>\n",
       "      <th>3</th>\n",
       "      <td>668.0</td>\n",
       "      <td>1</td>\n",
       "      <td>1</td>\n",
       "      <td>Condo</td>\n",
       "      <td>1.280772</td>\n",
       "      <td>103.852660</td>\n",
       "      <td>0.0</td>\n",
       "      <td>3.0</td>\n",
       "      <td>12</td>\n",
       "      <td>33.4</td>\n",
       "      <td>83.50</td>\n",
       "      <td>551.10</td>\n",
       "      <td>3.0</td>\n",
       "      <td>3.462779</td>\n",
       "      <td>1871.26</td>\n",
       "    </tr>\n",
       "    <tr>\n",
       "      <th>4</th>\n",
       "      <td>1959.0</td>\n",
       "      <td>4</td>\n",
       "      <td>4</td>\n",
       "      <td>Condo</td>\n",
       "      <td>1.313388</td>\n",
       "      <td>103.827361</td>\n",
       "      <td>1.0</td>\n",
       "      <td>0.0</td>\n",
       "      <td>20</td>\n",
       "      <td>391.8</td>\n",
       "      <td>979.50</td>\n",
       "      <td>587.70</td>\n",
       "      <td>1.0</td>\n",
       "      <td>1.149650</td>\n",
       "      <td>2118.43</td>\n",
       "    </tr>\n",
       "  </tbody>\n",
       "</table>\n",
       "</div>"
      ],
      "text/plain": [
       "     area  bathroom  bedroom   Type  latitude   longitude  school  mrt  \\\n",
       "0  1270.0         2        3    HDB  1.345383  103.746047     3.0  0.0   \n",
       "1  1066.0         2        2  Condo  1.386702  103.743679     3.0  1.0   \n",
       "2   926.0         2        2  Condo  1.295316  103.827096     1.0  0.0   \n",
       "3   668.0         1        1  Condo  1.280772  103.852660     0.0  3.0   \n",
       "4  1959.0         4        4  Condo  1.313388  103.827361     1.0  0.0   \n",
       "\n",
       "   age_of_building  bathroom_area  bedroom_area  remaining_area  convenience  \\\n",
       "0               25          127.0        476.25          666.75          3.0   \n",
       "1               16          106.6        266.50          692.90          4.0   \n",
       "2                6           92.6        231.50          601.90          1.0   \n",
       "3               12           33.4         83.50          551.10          3.0   \n",
       "4               20          391.8        979.50          587.70          1.0   \n",
       "\n",
       "   distance_from_central  price_sqft  \n",
       "0              10.582454      429.92  \n",
       "1              13.408199      919.32  \n",
       "2               1.091837     2699.78  \n",
       "3               3.462779     1871.26  \n",
       "4               1.149650     2118.43  "
      ]
     },
     "execution_count": 75,
     "metadata": {},
     "output_type": "execute_result"
    }
   ],
   "source": [
    "house = house[[c for c in house if c not in ['price_sqft']] + ['price_sqft']]\n",
    "print(\"Number of features: \", house.shape[1])\n",
    "house.head()"
   ]
  },
  {
   "cell_type": "code",
   "execution_count": 76,
   "metadata": {},
   "outputs": [],
   "source": [
    "house.to_csv('../data/data_eng.csv', index=False)"
   ]
  }
 ],
 "metadata": {
  "kernelspec": {
   "display_name": "Python 3",
   "language": "python",
   "name": "python3"
  },
  "language_info": {
   "codemirror_mode": {
    "name": "ipython",
    "version": 3
   },
   "file_extension": ".py",
   "mimetype": "text/x-python",
   "name": "python",
   "nbconvert_exporter": "python",
   "pygments_lexer": "ipython3",
   "version": "3.6.10"
  }
 },
 "nbformat": 4,
 "nbformat_minor": 4
}
