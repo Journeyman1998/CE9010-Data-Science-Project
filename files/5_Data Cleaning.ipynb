{
 "cells": [
  {
   "cell_type": "code",
   "execution_count": null,
   "metadata": {},
   "outputs": [],
   "source": [
    "import numpy as np\n",
    "import pandas as pd"
   ]
  },
  {
   "cell_type": "markdown",
   "metadata": {},
   "source": [
    "# 5. Data Cleaning \n",
    "[Back to top](#Contents)<br>\n",
    "<br>\n",
    "\n",
    "The acquired data contains the following features: \n",
    "1. Address \n",
    "2. Building Name \n",
    "3. Built On - Year that the building was built \n",
    "4. Land Area - Size of the house \n",
    "5. No. of Bathroom \n",
    "6. No. of Bedroom \n",
    "7. Price \n",
    "8. Price per sqft \n",
    "9. Tenure \n",
    "10. Type of property \n",
    "11. Latitude\n",
    "12. Longtitude \n",
    "\n",
    "\n",
    "The data cleaning was conducted in the following process: \n",
    "1. Eliminate missing values and values that contain unknown data (e.g unknown tenure). \n",
    "2. Remove uncommon houses like shophouse and convervation house from the dataset (as there are insufficient data to train the model for such type of houses)\n",
    "3. Remove string symbols like 'S$', 'psf', 'sqft' \n",
    "4. Extract numeric value from the 'Land_Area' variable "
   ]
  },
  {
   "cell_type": "code",
   "execution_count": 2,
   "metadata": {},
   "outputs": [
    {
     "data": {
      "text/html": [
       "<div>\n",
       "<style scoped>\n",
       "    .dataframe tbody tr th:only-of-type {\n",
       "        vertical-align: middle;\n",
       "    }\n",
       "\n",
       "    .dataframe tbody tr th {\n",
       "        vertical-align: top;\n",
       "    }\n",
       "\n",
       "    .dataframe thead th {\n",
       "        text-align: right;\n",
       "    }\n",
       "</style>\n",
       "<table border=\"1\" class=\"dataframe\">\n",
       "  <thead>\n",
       "    <tr style=\"text-align: right;\">\n",
       "      <th></th>\n",
       "      <th>Address</th>\n",
       "      <th>Building Name</th>\n",
       "      <th>Built On</th>\n",
       "      <th>Land Area</th>\n",
       "      <th>Number of Bathroom</th>\n",
       "      <th>Number of Bedroom</th>\n",
       "      <th>Price</th>\n",
       "      <th>Price per sqft</th>\n",
       "      <th>Tenure</th>\n",
       "      <th>Type</th>\n",
       "      <th>latitude</th>\n",
       "      <th>longitude</th>\n",
       "    </tr>\n",
       "  </thead>\n",
       "  <tbody>\n",
       "    <tr>\n",
       "      <th>0</th>\n",
       "      <td>190 Bukit Batok West Avenue 6</td>\n",
       "      <td>190 Bukit Batok West Avenue 6</td>\n",
       "      <td>1995</td>\n",
       "      <td>1270 sqft</td>\n",
       "      <td>2</td>\n",
       "      <td>3</td>\n",
       "      <td>S$ 546,000</td>\n",
       "      <td>S$ 429.92 psf</td>\n",
       "      <td>99-year Leasehold</td>\n",
       "      <td>HDB Apartment</td>\n",
       "      <td>1.345383</td>\n",
       "      <td>103.746046</td>\n",
       "    </tr>\n",
       "    <tr>\n",
       "      <th>1</th>\n",
       "      <td>Sims Drive</td>\n",
       "      <td>Sims Urban Oasis</td>\n",
       "      <td>99-year Leasehold</td>\n",
       "      <td>409 sqft</td>\n",
       "      <td>1</td>\n",
       "      <td>1</td>\n",
       "      <td>S$ 720,000</td>\n",
       "      <td>S$ 1,760.39 psf</td>\n",
       "      <td>Condominium</td>\n",
       "      <td>New Project: 2020</td>\n",
       "      <td>1.318261</td>\n",
       "      <td>103.879391</td>\n",
       "    </tr>\n",
       "    <tr>\n",
       "      <th>2</th>\n",
       "      <td>57 Choa Chu Kang Loop</td>\n",
       "      <td>The Warren</td>\n",
       "      <td>2004</td>\n",
       "      <td>1066 sqft</td>\n",
       "      <td>2</td>\n",
       "      <td>2</td>\n",
       "      <td>S$ 980,000</td>\n",
       "      <td>S$ 919.32 psf</td>\n",
       "      <td>99-year Leasehold</td>\n",
       "      <td>Condominium</td>\n",
       "      <td>1.386702</td>\n",
       "      <td>103.743679</td>\n",
       "    </tr>\n",
       "    <tr>\n",
       "      <th>3</th>\n",
       "      <td>21 Fernvale Road</td>\n",
       "      <td>High Park Residences</td>\n",
       "      <td>99-year Leasehold</td>\n",
       "      <td>680 sqft</td>\n",
       "      <td>2</td>\n",
       "      <td>2</td>\n",
       "      <td>S$ 880,000</td>\n",
       "      <td>S$ 1,294.12 psf</td>\n",
       "      <td>Condominium</td>\n",
       "      <td>New Project: 2019</td>\n",
       "      <td>1.396440</td>\n",
       "      <td>103.875251</td>\n",
       "    </tr>\n",
       "    <tr>\n",
       "      <th>4</th>\n",
       "      <td>21 Nathan Road</td>\n",
       "      <td>Nathan Suites</td>\n",
       "      <td>2014</td>\n",
       "      <td>926 sqft</td>\n",
       "      <td>2</td>\n",
       "      <td>2</td>\n",
       "      <td>S$ 2,500,000</td>\n",
       "      <td>S$ 2,699.78 psf</td>\n",
       "      <td>Freehold</td>\n",
       "      <td>Condominium</td>\n",
       "      <td>1.295316</td>\n",
       "      <td>103.827096</td>\n",
       "    </tr>\n",
       "  </tbody>\n",
       "</table>\n",
       "</div>"
      ],
      "text/plain": [
       "                         Address                  Building Name  \\\n",
       "0  190 Bukit Batok West Avenue 6  190 Bukit Batok West Avenue 6   \n",
       "1                     Sims Drive               Sims Urban Oasis   \n",
       "2          57 Choa Chu Kang Loop                     The Warren   \n",
       "3               21 Fernvale Road           High Park Residences   \n",
       "4                 21 Nathan Road                  Nathan Suites   \n",
       "\n",
       "            Built On  Land Area  Number of Bathroom  Number of Bedroom  \\\n",
       "0               1995  1270 sqft                   2                  3   \n",
       "1  99-year Leasehold   409 sqft                   1                  1   \n",
       "2               2004  1066 sqft                   2                  2   \n",
       "3  99-year Leasehold   680 sqft                   2                  2   \n",
       "4               2014   926 sqft                   2                  2   \n",
       "\n",
       "           Price   Price per sqft             Tenure               Type  \\\n",
       "0    S$ 546,000     S$ 429.92 psf  99-year Leasehold      HDB Apartment   \n",
       "1    S$ 720,000   S$ 1,760.39 psf        Condominium  New Project: 2020   \n",
       "2    S$ 980,000     S$ 919.32 psf  99-year Leasehold        Condominium   \n",
       "3    S$ 880,000   S$ 1,294.12 psf        Condominium  New Project: 2019   \n",
       "4  S$ 2,500,000   S$ 2,699.78 psf           Freehold        Condominium   \n",
       "\n",
       "   latitude   longitude  \n",
       "0  1.345383  103.746046  \n",
       "1  1.318261  103.879391  \n",
       "2  1.386702  103.743679  \n",
       "3  1.396440  103.875251  \n",
       "4  1.295316  103.827096  "
      ]
     },
     "execution_count": 2,
     "metadata": {},
     "output_type": "execute_result"
    }
   ],
   "source": [
    "data = pd.read_csv('../data/property_loc.csv',delimiter =',', index_col=0)\n",
    "data.head()"
   ]
  },
  {
   "cell_type": "markdown",
   "metadata": {},
   "source": [
    "<p> First, we dropped the features that are not useful, and a few of the data points with missing values. We dropped the feature <b>\"Price\"</b> too as it is just equal to the product of area and price per sqft. We also renamed some of the features. </p>"
   ]
  },
  {
   "cell_type": "code",
   "execution_count": 3,
   "metadata": {},
   "outputs": [
    {
     "data": {
      "text/html": [
       "<div>\n",
       "<style scoped>\n",
       "    .dataframe tbody tr th:only-of-type {\n",
       "        vertical-align: middle;\n",
       "    }\n",
       "\n",
       "    .dataframe tbody tr th {\n",
       "        vertical-align: top;\n",
       "    }\n",
       "\n",
       "    .dataframe thead th {\n",
       "        text-align: right;\n",
       "    }\n",
       "</style>\n",
       "<table border=\"1\" class=\"dataframe\">\n",
       "  <thead>\n",
       "    <tr style=\"text-align: right;\">\n",
       "      <th></th>\n",
       "      <th>Built</th>\n",
       "      <th>area</th>\n",
       "      <th>bathroom</th>\n",
       "      <th>bedroom</th>\n",
       "      <th>price_sqft</th>\n",
       "      <th>Type</th>\n",
       "      <th>latitude</th>\n",
       "      <th>longitude</th>\n",
       "    </tr>\n",
       "  </thead>\n",
       "  <tbody>\n",
       "    <tr>\n",
       "      <th>0</th>\n",
       "      <td>1995</td>\n",
       "      <td>1270 sqft</td>\n",
       "      <td>2</td>\n",
       "      <td>3</td>\n",
       "      <td>S$ 429.92 psf</td>\n",
       "      <td>HDB Apartment</td>\n",
       "      <td>1.345383</td>\n",
       "      <td>103.746046</td>\n",
       "    </tr>\n",
       "    <tr>\n",
       "      <th>1</th>\n",
       "      <td>99-year Leasehold</td>\n",
       "      <td>409 sqft</td>\n",
       "      <td>1</td>\n",
       "      <td>1</td>\n",
       "      <td>S$ 1,760.39 psf</td>\n",
       "      <td>New Project: 2020</td>\n",
       "      <td>1.318261</td>\n",
       "      <td>103.879391</td>\n",
       "    </tr>\n",
       "    <tr>\n",
       "      <th>2</th>\n",
       "      <td>2004</td>\n",
       "      <td>1066 sqft</td>\n",
       "      <td>2</td>\n",
       "      <td>2</td>\n",
       "      <td>S$ 919.32 psf</td>\n",
       "      <td>Condominium</td>\n",
       "      <td>1.386702</td>\n",
       "      <td>103.743679</td>\n",
       "    </tr>\n",
       "    <tr>\n",
       "      <th>3</th>\n",
       "      <td>99-year Leasehold</td>\n",
       "      <td>680 sqft</td>\n",
       "      <td>2</td>\n",
       "      <td>2</td>\n",
       "      <td>S$ 1,294.12 psf</td>\n",
       "      <td>New Project: 2019</td>\n",
       "      <td>1.396440</td>\n",
       "      <td>103.875251</td>\n",
       "    </tr>\n",
       "    <tr>\n",
       "      <th>4</th>\n",
       "      <td>2014</td>\n",
       "      <td>926 sqft</td>\n",
       "      <td>2</td>\n",
       "      <td>2</td>\n",
       "      <td>S$ 2,699.78 psf</td>\n",
       "      <td>Condominium</td>\n",
       "      <td>1.295316</td>\n",
       "      <td>103.827096</td>\n",
       "    </tr>\n",
       "  </tbody>\n",
       "</table>\n",
       "</div>"
      ],
      "text/plain": [
       "               Built       area  bathroom  bedroom       price_sqft  \\\n",
       "0               1995  1270 sqft         2        3    S$ 429.92 psf   \n",
       "1  99-year Leasehold   409 sqft         1        1  S$ 1,760.39 psf   \n",
       "2               2004  1066 sqft         2        2    S$ 919.32 psf   \n",
       "3  99-year Leasehold   680 sqft         2        2  S$ 1,294.12 psf   \n",
       "4               2014   926 sqft         2        2  S$ 2,699.78 psf   \n",
       "\n",
       "                Type  latitude   longitude  \n",
       "0      HDB Apartment  1.345383  103.746046  \n",
       "1  New Project: 2020  1.318261  103.879391  \n",
       "2        Condominium  1.386702  103.743679  \n",
       "3  New Project: 2019  1.396440  103.875251  \n",
       "4        Condominium  1.295316  103.827096  "
      ]
     },
     "execution_count": 3,
     "metadata": {},
     "output_type": "execute_result"
    }
   ],
   "source": [
    "data.drop(['Address', 'Building Name', 'Tenure', 'Price'], axis=1, inplace=True) #drop variables that are not useful \n",
    "data = data.rename(columns={\"Built On\": \"Built\", \"Land Area\": \"area\", \"Number of Bathroom\": \"bathroom\"\n",
    "                          , \"Number of Bedroom\":\"bedroom\", \"Price per sqft\": \"price_sqft\"}) #simplify the variable names \n",
    "house = data.dropna() #drop missing values\n",
    "house.head()"
   ]
  },
  {
   "cell_type": "code",
   "execution_count": 4,
   "metadata": {},
   "outputs": [
    {
     "name": "stdout",
     "output_type": "stream",
     "text": [
      "Number of data points:  8546\n",
      "Number of features:  8\n"
     ]
    }
   ],
   "source": [
    "print('Number of data points: ', house.shape[0])\n",
    "print(\"Number of features: \", house.shape[1])"
   ]
  },
  {
   "cell_type": "markdown",
   "metadata": {},
   "source": [
    "Next, we removed non-numeric values from the 'Built' variable as we need the numeric value to obtain a new variable (Building Age) "
   ]
  },
  {
   "cell_type": "code",
   "execution_count": 5,
   "metadata": {},
   "outputs": [
    {
     "data": {
      "text/plain": [
       "0       1995\n",
       "2       2004\n",
       "4       2014\n",
       "8       2019\n",
       "9       2008\n",
       "        ... \n",
       "9158    2006\n",
       "9160    1986\n",
       "9161    1999\n",
       "9162    1999\n",
       "9163    2010\n",
       "Name: Built, Length: 7339, dtype: int64"
      ]
     },
     "execution_count": 5,
     "metadata": {},
     "output_type": "execute_result"
    }
   ],
   "source": [
    "a = house.loc[:, ('Built')].str.isnumeric()\n",
    "house = house.drop(house.index[a == False])\n",
    "house['Built'].astype('int64')"
   ]
  },
  {
   "cell_type": "markdown",
   "metadata": {},
   "source": [
    "Since we are only looking at apartments, we removed house types that are not <b>HDB </b> and <b>Condo</b>."
   ]
  },
  {
   "cell_type": "code",
   "execution_count": 6,
   "metadata": {},
   "outputs": [],
   "source": [
    "house.Type = house.Type.str.replace('Condominium', 'Condo').replace('Apartment', 'Condo').replace('Executive Condo','Condo').replace('Walk-up','Condo')\n",
    "house.Type = house.Type.str.replace('HDB Apartment', 'HDB')\n",
    "\n",
    "mask = (house['Type'] != 'HDB') & (house['Type'] != 'Condo')\n",
    "house.drop(house[mask].index, inplace=True)"
   ]
  },
  {
   "cell_type": "markdown",
   "metadata": {},
   "source": [
    "We dropped the '$', 'S'  and 'psf' from the price features."
   ]
  },
  {
   "cell_type": "code",
   "execution_count": 8,
   "metadata": {},
   "outputs": [],
   "source": [
    "house['price_sqft'] = house['price_sqft'].replace({'S':' ', 'psf':' ',',': ''}, regex=True)\n",
    "house['price_sqft'] = house['price_sqft'].str.replace('$', '')\n",
    "house['price_sqft'] = house['price_sqft'].astype(float)"
   ]
  },
  {
   "cell_type": "markdown",
   "metadata": {},
   "source": [
    "We dropped the '$', 'S','land' and 'sqft' to make the variables to be float value"
   ]
  },
  {
   "cell_type": "code",
   "execution_count": 9,
   "metadata": {},
   "outputs": [],
   "source": [
    "house['area'] = house['area'].replace({'sqft':' ', 'land':' '}, regex=True)\n",
    "house['area'] = house['area'].str.replace('(', '')\n",
    "house['area'] = house['area'].str.replace(')', '')\n",
    "house['area'] = house['area'].astype(float)"
   ]
  },
  {
   "cell_type": "code",
   "execution_count": 10,
   "metadata": {},
   "outputs": [
    {
     "name": "stdout",
     "output_type": "stream",
     "text": [
      "Number of data points:  6771\n",
      "Number of features:  8\n"
     ]
    },
    {
     "data": {
      "text/html": [
       "<div>\n",
       "<style scoped>\n",
       "    .dataframe tbody tr th:only-of-type {\n",
       "        vertical-align: middle;\n",
       "    }\n",
       "\n",
       "    .dataframe tbody tr th {\n",
       "        vertical-align: top;\n",
       "    }\n",
       "\n",
       "    .dataframe thead th {\n",
       "        text-align: right;\n",
       "    }\n",
       "</style>\n",
       "<table border=\"1\" class=\"dataframe\">\n",
       "  <thead>\n",
       "    <tr style=\"text-align: right;\">\n",
       "      <th></th>\n",
       "      <th>Built</th>\n",
       "      <th>area</th>\n",
       "      <th>bathroom</th>\n",
       "      <th>bedroom</th>\n",
       "      <th>price_sqft</th>\n",
       "      <th>Type</th>\n",
       "      <th>latitude</th>\n",
       "      <th>longitude</th>\n",
       "    </tr>\n",
       "  </thead>\n",
       "  <tbody>\n",
       "    <tr>\n",
       "      <th>0</th>\n",
       "      <td>1995</td>\n",
       "      <td>1270.0</td>\n",
       "      <td>2</td>\n",
       "      <td>3</td>\n",
       "      <td>429.92</td>\n",
       "      <td>HDB</td>\n",
       "      <td>1.345383</td>\n",
       "      <td>103.746046</td>\n",
       "    </tr>\n",
       "    <tr>\n",
       "      <th>1</th>\n",
       "      <td>2004</td>\n",
       "      <td>1066.0</td>\n",
       "      <td>2</td>\n",
       "      <td>2</td>\n",
       "      <td>919.32</td>\n",
       "      <td>Condo</td>\n",
       "      <td>1.386702</td>\n",
       "      <td>103.743679</td>\n",
       "    </tr>\n",
       "    <tr>\n",
       "      <th>2</th>\n",
       "      <td>2014</td>\n",
       "      <td>926.0</td>\n",
       "      <td>2</td>\n",
       "      <td>2</td>\n",
       "      <td>2699.78</td>\n",
       "      <td>Condo</td>\n",
       "      <td>1.295316</td>\n",
       "      <td>103.827096</td>\n",
       "    </tr>\n",
       "    <tr>\n",
       "      <th>3</th>\n",
       "      <td>2008</td>\n",
       "      <td>668.0</td>\n",
       "      <td>1</td>\n",
       "      <td>1</td>\n",
       "      <td>1871.26</td>\n",
       "      <td>Condo</td>\n",
       "      <td>1.280772</td>\n",
       "      <td>103.852660</td>\n",
       "    </tr>\n",
       "    <tr>\n",
       "      <th>4</th>\n",
       "      <td>2000</td>\n",
       "      <td>1959.0</td>\n",
       "      <td>4</td>\n",
       "      <td>4</td>\n",
       "      <td>2118.43</td>\n",
       "      <td>Condo</td>\n",
       "      <td>1.313388</td>\n",
       "      <td>103.827361</td>\n",
       "    </tr>\n",
       "  </tbody>\n",
       "</table>\n",
       "</div>"
      ],
      "text/plain": [
       "  Built    area  bathroom  bedroom  price_sqft   Type  latitude   longitude\n",
       "0  1995  1270.0         2        3      429.92    HDB  1.345383  103.746046\n",
       "1  2004  1066.0         2        2      919.32  Condo  1.386702  103.743679\n",
       "2  2014   926.0         2        2     2699.78  Condo  1.295316  103.827096\n",
       "3  2008   668.0         1        1     1871.26  Condo  1.280772  103.852660\n",
       "4  2000  1959.0         4        4     2118.43  Condo  1.313388  103.827361"
      ]
     },
     "execution_count": 10,
     "metadata": {},
     "output_type": "execute_result"
    }
   ],
   "source": [
    "house.reset_index(inplace=True, drop=True)\n",
    "print('Number of data points: ', house.shape[0])\n",
    "print(\"Number of features: \", house.shape[1])\n",
    "\n",
    "house.head()"
   ]
  },
  {
   "cell_type": "code",
   "execution_count": 11,
   "metadata": {},
   "outputs": [],
   "source": [
    "house.to_csv('../data/data_cleaned.csv', index=False)"
   ]
  }
 ],
 "metadata": {
  "kernelspec": {
   "display_name": "Python 3",
   "language": "python",
   "name": "python3"
  },
  "language_info": {
   "codemirror_mode": {
    "name": "ipython",
    "version": 3
   },
   "file_extension": ".py",
   "mimetype": "text/x-python",
   "name": "python",
   "nbconvert_exporter": "python",
   "pygments_lexer": "ipython3",
   "version": "3.6.10"
  }
 },
 "nbformat": 4,
 "nbformat_minor": 4
}
