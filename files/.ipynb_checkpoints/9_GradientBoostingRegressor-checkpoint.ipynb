{
 "cells": [
  {
   "cell_type": "markdown",
   "metadata": {},
   "source": [
    "## GradientBoostingRegressor"
   ]
  },
  {
   "cell_type": "code",
   "execution_count": 1,
   "metadata": {},
   "outputs": [],
   "source": [
    "import warnings\n",
    "warnings.simplefilter(action='ignore', category=FutureWarning)"
   ]
  },
  {
   "cell_type": "code",
   "execution_count": 23,
   "metadata": {},
   "outputs": [],
   "source": [
    "import numpy as np\n",
    "import pandas as pd\n",
    "import matplotlib.pyplot as plt\n",
    "import seaborn as sb\n",
    "\n",
    "from sklearn.ensemble import GradientBoostingRegressor\n",
    "from sklearn.model_selection import KFold, GridSearchCV\n",
    "from sklearn.metrics import mean_squared_error"
   ]
  },
  {
   "cell_type": "code",
   "execution_count": 4,
   "metadata": {},
   "outputs": [],
   "source": [
    "train = pd.read_csv('../data/train.csv')"
   ]
  },
  {
   "cell_type": "code",
   "execution_count": 5,
   "metadata": {},
   "outputs": [],
   "source": [
    "kfold = KFold(n_splits=5)"
   ]
  },
  {
   "cell_type": "code",
   "execution_count": 7,
   "metadata": {},
   "outputs": [],
   "source": [
    "def rmse(pred, actual):\n",
    "    return np.sqrt(mean_squared_error(pred, actual))"
   ]
  },
  {
   "cell_type": "markdown",
   "metadata": {},
   "source": [
    "### Simple GradientBoostingRegressor"
   ]
  },
  {
   "cell_type": "code",
   "execution_count": 11,
   "metadata": {},
   "outputs": [
    {
     "name": "stdout",
     "output_type": "stream",
     "text": [
      "[66.4718339244947, 62.108474182277874, 183.85684343190366, 202.34113468278386, 203.4385766945657]\n",
      "143.64337258320515\n"
     ]
    }
   ],
   "source": [
    "err = []\n",
    "\n",
    "for train_idx, test_idx in kfold.split(train):\n",
    "    train_x = train.iloc[train_idx, :-1]\n",
    "    test_x = train.iloc[test_idx, :-1]\n",
    "\n",
    "    train_y = train.iloc[train_idx, -1]\n",
    "    test_y = train.iloc[test_idx, -1]\n",
    "    \n",
    "    gb = GradientBoostingRegressor()\n",
    "    gb.fit(train_x, train_y)\n",
    "    y_pred = rf.predict(test_x)\n",
    "    err.append(rmse(y_pred, test_y))\n",
    "\n",
    "print(err)\n",
    "print(np.mean(err))"
   ]
  },
  {
   "cell_type": "markdown",
   "metadata": {},
   "source": [
    "<h3>Hyperparameter selection for GBRegressor</h3>"
   ]
  },
  {
   "cell_type": "code",
   "execution_count": 14,
   "metadata": {},
   "outputs": [
    {
     "name": "stdout",
     "output_type": "stream",
     "text": [
      "{'max_depth': 12, 'max_features': 0.5, 'min_samples_split': 10, 'subsample': 1.0}\n"
     ]
    }
   ],
   "source": [
    "param = {\n",
    "    'subsample': [0.4,0.6,0.8,1.0],\n",
    "    'max_depth': [3,6,9,12,15],\n",
    "    'max_features': ['auto', 'log2', None] + list(np.arange(0.5, 1, 0.2)), # Maximum number of features to consider at each split\n",
    "    'min_samples_split': [2, 5, 10], # The minimum number of samples required to split an internal node\n",
    "}\n",
    "\n",
    "grid_search = GridSearchCV(GradientBoostingRegressor(n_estimators=1000), param_grid=param, cv=5)\n",
    "grid_search.fit(train.iloc[:,:-1], train.iloc[:,-1])\n",
    "gb = grid_search.best_estimator_\n",
    "best_param = grid_search.best_params_\n",
    "\n",
    "print(best_param)"
   ]
  },
  {
   "cell_type": "markdown",
   "metadata": {},
   "source": [
    "<h3>Accuracy of the Optimised Model</h3>"
   ]
  },
  {
   "cell_type": "code",
   "execution_count": 17,
   "metadata": {
    "scrolled": true
   },
   "outputs": [
    {
     "name": "stdout",
     "output_type": "stream",
     "text": [
      "[48.818204649762734, 44.85580148980461, 156.92585164480795, 162.57423650994718, 160.95833962356477]\n",
      "114.82648678357745\n"
     ]
    }
   ],
   "source": [
    "err = []\n",
    "\n",
    "for train_idx, test_idx in kfold.split(train):\n",
    "    train_x = train.iloc[train_idx, :-1]\n",
    "    test_x = train.iloc[test_idx, :-1]\n",
    "\n",
    "    train_y = train.iloc[train_idx, -1]\n",
    "    test_y = train.iloc[test_idx, -1]\n",
    "    \n",
    "    gb.fit(train_x, train_y)\n",
    "    y_pred = gb.predict(test_x)\n",
    "    err.append(rmse(y_pred, test_y))\n",
    "\n",
    "print(err)\n",
    "print(np.mean(err))"
   ]
  },
  {
   "cell_type": "code",
   "execution_count": 42,
   "metadata": {},
   "outputs": [
    {
     "data": {
      "text/plain": [
       "GradientBoostingRegressor(alpha=0.9, criterion='friedman_mse', init=None,\n",
       "                          learning_rate=0.1, loss='ls', max_depth=12,\n",
       "                          max_features=0.5, max_leaf_nodes=None,\n",
       "                          min_impurity_decrease=0.0, min_impurity_split=None,\n",
       "                          min_samples_leaf=1, min_samples_split=10,\n",
       "                          min_weight_fraction_leaf=0.0, n_estimators=1000,\n",
       "                          n_iter_no_change=None, presort='auto',\n",
       "                          random_state=None, subsample=1.0, tol=0.0001,\n",
       "                          validation_fraction=0.1, verbose=0, warm_start=False)"
      ]
     },
     "execution_count": 42,
     "metadata": {},
     "output_type": "execute_result"
    }
   ],
   "source": [
    "gb.fit(train.iloc[:,:-1], train.iloc[:,-1])"
   ]
  },
  {
   "cell_type": "markdown",
   "metadata": {},
   "source": [
    "<h3>Importance of each feature in the Gradient Boosting trees</h3>"
   ]
  },
  {
   "cell_type": "code",
   "execution_count": 43,
   "metadata": {},
   "outputs": [
    {
     "data": {
      "text/html": [
       "<div>\n",
       "<style scoped>\n",
       "    .dataframe tbody tr th:only-of-type {\n",
       "        vertical-align: middle;\n",
       "    }\n",
       "\n",
       "    .dataframe tbody tr th {\n",
       "        vertical-align: top;\n",
       "    }\n",
       "\n",
       "    .dataframe thead th {\n",
       "        text-align: right;\n",
       "    }\n",
       "</style>\n",
       "<table border=\"1\" class=\"dataframe\">\n",
       "  <thead>\n",
       "    <tr style=\"text-align: right;\">\n",
       "      <th></th>\n",
       "      <th>Features</th>\n",
       "      <th>Importance</th>\n",
       "    </tr>\n",
       "  </thead>\n",
       "  <tbody>\n",
       "    <tr>\n",
       "      <td>14</td>\n",
       "      <td>type_hdb</td>\n",
       "      <td>0.522959</td>\n",
       "    </tr>\n",
       "    <tr>\n",
       "      <td>12</td>\n",
       "      <td>distance_from_central</td>\n",
       "      <td>0.144769</td>\n",
       "    </tr>\n",
       "    <tr>\n",
       "      <td>3</td>\n",
       "      <td>lat</td>\n",
       "      <td>0.091734</td>\n",
       "    </tr>\n",
       "    <tr>\n",
       "      <td>7</td>\n",
       "      <td>age</td>\n",
       "      <td>0.089811</td>\n",
       "    </tr>\n",
       "    <tr>\n",
       "      <td>13</td>\n",
       "      <td>type_condo</td>\n",
       "      <td>0.044252</td>\n",
       "    </tr>\n",
       "    <tr>\n",
       "      <td>4</td>\n",
       "      <td>long</td>\n",
       "      <td>0.036196</td>\n",
       "    </tr>\n",
       "    <tr>\n",
       "      <td>6</td>\n",
       "      <td>mrt</td>\n",
       "      <td>0.022147</td>\n",
       "    </tr>\n",
       "    <tr>\n",
       "      <td>10</td>\n",
       "      <td>remaining_area</td>\n",
       "      <td>0.011548</td>\n",
       "    </tr>\n",
       "    <tr>\n",
       "      <td>0</td>\n",
       "      <td>area</td>\n",
       "      <td>0.011408</td>\n",
       "    </tr>\n",
       "    <tr>\n",
       "      <td>8</td>\n",
       "      <td>bathroom_area</td>\n",
       "      <td>0.007570</td>\n",
       "    </tr>\n",
       "    <tr>\n",
       "      <td>9</td>\n",
       "      <td>bedroom_area</td>\n",
       "      <td>0.007487</td>\n",
       "    </tr>\n",
       "    <tr>\n",
       "      <td>5</td>\n",
       "      <td>school</td>\n",
       "      <td>0.005281</td>\n",
       "    </tr>\n",
       "    <tr>\n",
       "      <td>11</td>\n",
       "      <td>convenience</td>\n",
       "      <td>0.003658</td>\n",
       "    </tr>\n",
       "    <tr>\n",
       "      <td>1</td>\n",
       "      <td>bathroom</td>\n",
       "      <td>0.000628</td>\n",
       "    </tr>\n",
       "    <tr>\n",
       "      <td>2</td>\n",
       "      <td>bedroom</td>\n",
       "      <td>0.000552</td>\n",
       "    </tr>\n",
       "  </tbody>\n",
       "</table>\n",
       "</div>"
      ],
      "text/plain": [
       "                 Features  Importance\n",
       "14               type_hdb    0.522959\n",
       "12  distance_from_central    0.144769\n",
       "3                     lat    0.091734\n",
       "7                     age    0.089811\n",
       "13             type_condo    0.044252\n",
       "4                    long    0.036196\n",
       "6                     mrt    0.022147\n",
       "10         remaining_area    0.011548\n",
       "0                    area    0.011408\n",
       "8           bathroom_area    0.007570\n",
       "9            bedroom_area    0.007487\n",
       "5                  school    0.005281\n",
       "11            convenience    0.003658\n",
       "1                bathroom    0.000628\n",
       "2                 bedroom    0.000552"
      ]
     },
     "execution_count": 43,
     "metadata": {},
     "output_type": "execute_result"
    }
   ],
   "source": [
    "f_importance = pd.DataFrame(columns=['Features', 'Importance'])\n",
    "f_importance['Features'] = train.columns[:-1]\n",
    "f_importance['Importance'] = gb.feature_importances_\n",
    "f_importance.sort_values(by='Importance', inplace=True, ascending=False)\n",
    "f_importance"
   ]
  },
  {
   "cell_type": "code",
   "execution_count": 44,
   "metadata": {},
   "outputs": [
    {
     "data": {
      "text/plain": [
       "<matplotlib.axes._subplots.AxesSubplot at 0x22041aa0608>"
      ]
     },
     "execution_count": 44,
     "metadata": {},
     "output_type": "execute_result"
    },
    {
     "data": {
      "image/png": "[encoded data removed]",
      "text/plain": [
       "<Figure size 1440x1440 with 1 Axes>"
      ]
     },
     "metadata": {
      "needs_background": "light"
     },
     "output_type": "display_data"
    }
   ],
   "source": [
    "f,axes = plt.subplots(1,1,figsize=(20,20))\n",
    "sb.barplot(x='Importance', y='Features', data=f_importance)"
   ]
  },
  {
   "cell_type": "markdown",
   "metadata": {},
   "source": [
    "<p>It seems that the type of apartments is very important. This is followed by distance from central, age and the coordinates. These six features take up 93.0% of the decision made in the GradientBoosting tree</p>"
   ]
  },
  {
   "cell_type": "markdown",
   "metadata": {},
   "source": [
    "<h2>Accuracy of GradientBoostingRegressor on Test set</h2>"
   ]
  },
  {
   "cell_type": "code",
   "execution_count": null,
   "metadata": {},
   "outputs": [],
   "source": [
    "test = pd.read_csv('../data/test.csv')\n",
    "\n",
    "print(\"RMSE for RF: \", rmse(gb.predict(test.iloc[:,:-1]), test.iloc[:,-1]))"
   ]
  }
 ],
 "metadata": {
  "kernelspec": {
   "display_name": "Python 3",
   "language": "python",
   "name": "python3"
  },
  "language_info": {
   "codemirror_mode": {
    "name": "ipython",
    "version": 3
   },
   "file_extension": ".py",
   "mimetype": "text/x-python",
   "name": "python",
   "nbconvert_exporter": "python",
   "pygments_lexer": "ipython3",
   "version": "3.6.10"
  }
 },
 "nbformat": 4,
 "nbformat_minor": 2
}
