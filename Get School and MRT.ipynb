{
 "cells": [
  {
   "cell_type": "code",
   "execution_count": 2,
   "metadata": {},
   "outputs": [],
   "source": [
    "import pandas as pd\n",
    "import numpy as np \n",
    "import warnings\n",
    "warnings.filterwarnings(\"ignore\", category=RuntimeWarning)\n",
    "from geopy.distance import distance"
   ]
  },
  {
   "cell_type": "code",
   "execution_count": 43,
   "metadata": {},
   "outputs": [
    {
     "data": {
      "text/plain": [
       "(144, 2)"
      ]
     },
     "execution_count": 43,
     "metadata": {},
     "output_type": "execute_result"
    }
   ],
   "source": [
    "Final = pd.read_csv('data/cleaned_data.csv')\n",
    "house_data = Final.to_numpy()\n",
    "house_coord = house_data[:,8:10]\n",
    "data = pd.read_csv('data/mrt.csv',delimiter =',')\n",
    "df = pd.DataFrame(data)\n",
    "mrt_data = df.to_numpy()\n",
    "mrt_coord = mrt_data[:,2:4]\n",
    "mrt_coord.shape"
   ]
  },
  {
   "cell_type": "code",
   "execution_count": 45,
   "metadata": {},
   "outputs": [],
   "source": [
    "def facilities(coord,house_coord,dis):\n",
    "    nearby= np.zeros(len(house_coord))[:,None]\n",
    "    for i in range(len(house_coord)):\n",
    "        count = 0\n",
    "        for j in range(len(coord)):\n",
    "            cal = distance(house_coord[i],coord[j]).m\n",
    "            if cal <= dis:\n",
    "                count +=1        \n",
    "        nearby[i]= count\n",
    "    return nearby\n",
    "\n",
    "#nearby_mrt \n",
    "nearby_mrt = np.zeros(len(house_coord))[:,None]\n",
    "nearby_mrt = facilities(mrt_coord,house_coord,500)\n"
   ]
  },
  {
   "cell_type": "code",
   "execution_count": 44,
   "metadata": {},
   "outputs": [
    {
     "data": {
      "text/plain": [
       "(184, 3)"
      ]
     },
     "execution_count": 44,
     "metadata": {},
     "output_type": "execute_result"
    }
   ],
   "source": [
    "school_data = pd.read_csv('data/school.csv',delimiter =',')\n",
    "df = pd.DataFrame(school_data) \n",
    "df['lng']=df['lng'].astype(dtype=np.float64)\n",
    "school = df.to_numpy()\n",
    "school_coord = school[:,1:3]\n",
    "school.shape"
   ]
  },
  {
   "cell_type": "code",
   "execution_count": 46,
   "metadata": {},
   "outputs": [
    {
     "data": {
      "text/plain": [
       "array([[0.],\n",
       "       [1.],\n",
       "       [0.],\n",
       "       ...,\n",
       "       [0.],\n",
       "       [0.],\n",
       "       [0.]])"
      ]
     },
     "execution_count": 46,
     "metadata": {},
     "output_type": "execute_result"
    }
   ],
   "source": [
    "nearby_mrt"
   ]
  },
  {
   "cell_type": "code",
   "execution_count": 47,
   "metadata": {},
   "outputs": [],
   "source": [
    "#nearby_school \n",
    "nearby_school = np.zeros(len(house_coord))[:,None]\n",
    "nearby_school = facilities(school_coord,house_coord,1000)"
   ]
  },
  {
   "cell_type": "code",
   "execution_count": 48,
   "metadata": {},
   "outputs": [
    {
     "data": {
      "text/plain": [
       "array([[3.],\n",
       "       [3.],\n",
       "       [1.],\n",
       "       ...,\n",
       "       [3.],\n",
       "       [4.],\n",
       "       [7.]])"
      ]
     },
     "execution_count": 48,
     "metadata": {},
     "output_type": "execute_result"
    }
   ],
   "source": [
    "nearby_school"
   ]
  },
  {
   "cell_type": "code",
   "execution_count": 16,
   "metadata": {},
   "outputs": [],
   "source": [
    "built_on = house_data[:,0].astype(int)\n",
    "age_of_building = (2020 - built_on)[:,None]\n",
    "# remaining_years = house_data[:,6].astype(int)[:,None]\n",
    "# remaining_years = remaining_years - age_of_building"
   ]
  },
  {
   "cell_type": "code",
   "execution_count": 20,
   "metadata": {},
   "outputs": [
    {
     "data": {
      "text/plain": [
       "(6768, 1)"
      ]
     },
     "execution_count": 20,
     "metadata": {},
     "output_type": "execute_result"
    }
   ],
   "source": [
    "nearby_mrt.shape"
   ]
  },
  {
   "cell_type": "code",
   "execution_count": 26,
   "metadata": {},
   "outputs": [
    {
     "name": "stdout",
     "output_type": "stream",
     "text": [
      "(6768, 13)\n"
     ]
    }
   ],
   "source": [
    "Final['no_of_school_within_1000m'] = nearby_school\n",
    "Final['no_of_mrt_within_500m'] = nearby_mrt\n",
    "Final['age_of_building'] = age_of_building\n",
    "Final.head()\n",
    "print(Final.shape)"
   ]
  },
  {
   "cell_type": "code",
   "execution_count": 22,
   "metadata": {},
   "outputs": [
    {
     "name": "stdout",
     "output_type": "stream",
     "text": [
      "(2636, 10)\n",
      "(4132, 10)\n"
     ]
    }
   ],
   "source": [
    "HDB_data = house[house.Type == 'HDB']\n",
    "print(HDB_data.shape)\n",
    "Condo_data = house[house.Type == 'Condo']\n",
    "print(Condo_data.shape)"
   ]
  },
  {
   "cell_type": "code",
   "execution_count": 28,
   "metadata": {},
   "outputs": [],
   "source": [
    "Final.drop(columns=['Built'], inplace=True)\n",
    "Final = pd.get_dummies(Final, prefix='Type', columns=['Type'])\n",
    "whole_data= Final.to_csv('data/data.csv')"
   ]
  }
 ],
 "metadata": {
  "kernelspec": {
   "display_name": "Python 3",
   "language": "python",
   "name": "python3"
  },
  "language_info": {
   "codemirror_mode": {
    "name": "ipython",
    "version": 3
   },
   "file_extension": ".py",
   "mimetype": "text/x-python",
   "name": "python",
   "nbconvert_exporter": "python",
   "pygments_lexer": "ipython3",
   "version": "3.7.4"
  }
 },
 "nbformat": 4,
 "nbformat_minor": 4
}
