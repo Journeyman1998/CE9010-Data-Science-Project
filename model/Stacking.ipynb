{
 "cells": [
  {
   "cell_type": "code",
   "execution_count": 1,
   "metadata": {},
   "outputs": [],
   "source": [
    "import numpy as np\n",
    "import pandas as pd\n",
    "import pickle\n",
    "\n",
    "from sklearn.model_selection import KFold\n",
    "from sklearn.metrics import mean_squared_error\n",
    "from sklearn.preprocessing import PolynomialFeatures\n",
    "\n",
    "from sklearn.ensemble import GradientBoostingRegressor, RandomForestRegressor\n",
    "from sklearn.linear_model import Ridge\n",
    "from sklearn.neighbors import KNeighborsRegressor"
   ]
  },
  {
   "cell_type": "code",
   "execution_count": 2,
   "metadata": {},
   "outputs": [],
   "source": [
    "train = pd.read_csv('../data/train.csv')\n",
    "train_stack = pd.DataFrame(columns=['ridge', 'rf', 'grad', 'knn'], index=train.index)"
   ]
  },
  {
   "cell_type": "code",
   "execution_count": 3,
   "metadata": {},
   "outputs": [],
   "source": [
    "kfold = KFold(n_splits=5)"
   ]
  },
  {
   "cell_type": "code",
   "execution_count": 4,
   "metadata": {},
   "outputs": [],
   "source": [
    "def rmse(pred, actual):\n",
    "    return np.sqrt(mean_squared_error(pred, actual))"
   ]
  },
  {
   "cell_type": "markdown",
   "metadata": {},
   "source": [
    "### Training base models and the stacking model"
   ]
  },
  {
   "cell_type": "code",
   "execution_count": 5,
   "metadata": {},
   "outputs": [],
   "source": [
    "poly = PolynomialFeatures(degree=3)\n",
    "\n",
    "for train_idx, test_idx in kfold.split(train):\n",
    "    \n",
    "    train_x = train.iloc[train_idx, :-1]\n",
    "    train_y = train.iloc[train_idx, -1]\n",
    "    test_x = train.iloc[test_idx, :-1]\n",
    "    test_y = train.iloc[test_idx, -1]\n",
    "    \n",
    "    train_x_poly = pd.DataFrame(poly.fit_transform(train_x.copy()), index=train_idx)\n",
    "    test_x_poly = pd.DataFrame(poly.fit_transform(test_x.copy()), index=test_idx)\n",
    "    \n",
    "    # Train ridge\n",
    "    ridge = Ridge(alpha=100)\n",
    "    ridge.fit(train_x_poly, train_y)\n",
    "    ridge_pred = ridge.predict(test_x_poly).reshape(-1,1)\n",
    "    \n",
    "    # Train RandomForestRegressor\n",
    "    rf = RandomForestRegressor(max_depth=15, max_features=0.7, min_samples_split=2, n_estimators=250)\n",
    "    rf.fit(train_x, train_y)\n",
    "    rf_pred = rf.predict(test_x).reshape(-1,1)\n",
    "    \n",
    "    # Train GradientBoostingRegressor\n",
    "    gb = GradientBoostingRegressor(n_estimators=1000, max_depth=12, max_features=0.5, min_samples_split=10, subsample=1.0)\n",
    "    gb.fit(train_x, train_y)\n",
    "    gb_pred = gb.predict(test_x).reshape(-1,1)\n",
    "    \n",
    "    # Train KNeighborsRegressor\n",
    "    knn =  KNeighborsRegressor(n_neighbors=5, p=1, weights='distance')\n",
    "    knn.fit(train_x, train_y)\n",
    "    knn_pred = knn.predict(test_x).reshape(-1,1)\n",
    "    \n",
    "    train_stack.iloc[test_idx] = np.concatenate((ridge_pred, rf_pred, gb_pred, knn_pred), axis=1)"
   ]
  },
  {
   "cell_type": "code",
   "execution_count": 6,
   "metadata": {},
   "outputs": [
    {
     "data": {
      "text/plain": [
       "LinearRegression(copy_X=True, fit_intercept=True, n_jobs=None, normalize=False)"
      ]
     },
     "execution_count": 6,
     "metadata": {},
     "output_type": "execute_result"
    }
   ],
   "source": [
    "from sklearn.linear_model import LinearRegression\n",
    "meta = LinearRegression()\n",
    "meta.fit(train_stack, train.iloc[:,-1])"
   ]
  },
  {
   "cell_type": "code",
   "execution_count": 7,
   "metadata": {},
   "outputs": [
    {
     "data": {
      "text/plain": [
       "KNeighborsRegressor(algorithm='auto', leaf_size=30, metric='minkowski',\n",
       "                    metric_params=None, n_jobs=None, n_neighbors=5, p=1,\n",
       "                    weights='distance')"
      ]
     },
     "execution_count": 7,
     "metadata": {},
     "output_type": "execute_result"
    }
   ],
   "source": [
    "train_x = train.iloc[:, :-1]\n",
    "train_y = train.iloc[:, -1]\n",
    "\n",
    "train_x_poly = pd.DataFrame(poly.fit_transform(train_x.copy()), index=train.index)\n",
    "\n",
    "# Train ridge\n",
    "ridge = Ridge(alpha=100)\n",
    "ridge.fit(train_x_poly, train_y)\n",
    "\n",
    "# Train RandomForestRegressor\n",
    "rf = RandomForestRegressor()\n",
    "rf.fit(train_x, train_y)\n",
    "\n",
    "# Train GradientBoostingRegressor\n",
    "gb = GradientBoostingRegressor(n_estimators=1000)\n",
    "gb.fit(train_x, train_y)\n",
    "\n",
    "# Train KNeighborsRegressor\n",
    "knn =  KNeighborsRegressor(n_neighbors=5, p=1, weights='distance')\n",
    "knn.fit(train_x, train_y)"
   ]
  },
  {
   "cell_type": "code",
   "execution_count": 8,
   "metadata": {},
   "outputs": [],
   "source": [
    "# Saving the base and meta models\n",
    "\n",
    "pickle.dump(ridge, open('model/ridge.pickle', 'wb'))\n",
    "pickle.dump(rf, open('model/rf.pickle', 'wb'))\n",
    "pickle.dump(gb, open('model/gb.pickle', 'wb'))\n",
    "pickle.dump(knn, open('model/knn.pickle', 'wb'))\n",
    "pickle.dump(meta, open('model/meta.pickle', 'wb'))"
   ]
  },
  {
   "cell_type": "code",
   "execution_count": 9,
   "metadata": {},
   "outputs": [],
   "source": [
    "def predict(features):\n",
    "    ridge = pickle.load(open('model/ridge.pickle', 'rb'))\n",
    "    rf = pickle.load(open('model/rf.pickle', 'rb'))\n",
    "    gb = pickle.load(open('model/gb.pickle', 'rb'))\n",
    "    knn = pickle.load(open('model/knn.pickle', 'rb'))\n",
    "    meta = pickle.load(open('model/meta.pickle', 'rb'))\n",
    "    \n",
    "    meta_test = pd.DataFrame(columns=['ridge', 'rf', 'gb', 'knn'], index=features.index)\n",
    "    \n",
    "    poly = PolynomialFeatures(degree=3)\n",
    "    ridge_pred = ridge.predict(poly.fit_transform(features)).reshape(-1,1)\n",
    "    rf_pred = rf.predict(features).reshape(-1,1)\n",
    "    gb_pred = gb.predict(features).reshape(-1,1)\n",
    "    knn_pred = knn.predict(features).reshape(-1,1)\n",
    "    \n",
    "    meta_test = np.concatenate((ridge_pred, rf_pred, gb_pred, knn_pred), axis=1)\n",
    "    \n",
    "    y_pred = meta.predict(meta_test)\n",
    "    \n",
    "    return y_pred"
   ]
  },
  {
   "cell_type": "code",
   "execution_count": 10,
   "metadata": {},
   "outputs": [],
   "source": [
    "test = pd.read_csv('../data/test.csv')\n",
    "y_pred = predict(test.iloc[:,:-1])"
   ]
  },
  {
   "cell_type": "code",
   "execution_count": 11,
   "metadata": {},
   "outputs": [
    {
     "data": {
      "text/plain": [
       "114.27170794925478"
      ]
     },
     "execution_count": 11,
     "metadata": {},
     "output_type": "execute_result"
    }
   ],
   "source": [
    "rmse(y_pred, test.iloc[:,-1])"
   ]
  },
  {
   "cell_type": "code",
   "execution_count": 12,
   "metadata": {},
   "outputs": [
    {
     "name": "stdout",
     "output_type": "stream",
     "text": [
      "RMSE for Ridge:  164.97732253734705\n",
      "RMSE for RF:  119.84165372046535\n",
      "RMSE for GB:  117.59937339843971\n",
      "RMSE for KNN:  163.27561410314317\n"
     ]
    }
   ],
   "source": [
    "ridge_a = pickle.load(open('model/ridge.pickle', 'rb'))\n",
    "rf_a = pickle.load(open('model/rf.pickle', 'rb'))\n",
    "gb_a = pickle.load(open('model/gb.pickle', 'rb'))\n",
    "knn_a = pickle.load(open('model/knn.pickle', 'rb'))\n",
    "\n",
    "print(\"RMSE for Ridge: \", rmse(ridge_a.predict(PolynomialFeatures(degree=3).fit_transform(test.iloc[:,:-1])), test.iloc[:,-1]))\n",
    "print(\"RMSE for RF: \", rmse(rf_a.predict(test.iloc[:,:-1]), test.iloc[:,-1]))\n",
    "print(\"RMSE for GB: \", rmse(gb_a.predict(test.iloc[:,:-1]), test.iloc[:,-1]))\n",
    "print(\"RMSE for KNN: \", rmse(knn_a.predict(test.iloc[:,:-1]), test.iloc[:,-1]))"
   ]
  },
  {
   "cell_type": "code",
   "execution_count": null,
   "metadata": {},
   "outputs": [],
   "source": []
  }
 ],
 "metadata": {
  "kernelspec": {
   "display_name": "Python 3",
   "language": "python",
   "name": "python3"
  },
  "language_info": {
   "codemirror_mode": {
    "name": "ipython",
    "version": 3
   },
   "file_extension": ".py",
   "mimetype": "text/x-python",
   "name": "python",
   "nbconvert_exporter": "python",
   "pygments_lexer": "ipython3",
   "version": "3.6.10"
  }
 },
 "nbformat": 4,
 "nbformat_minor": 2
}
