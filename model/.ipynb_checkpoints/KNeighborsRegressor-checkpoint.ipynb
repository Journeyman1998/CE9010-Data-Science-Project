{
 "cells": [
  {
   "cell_type": "code",
   "execution_count": 1,
   "metadata": {},
   "outputs": [],
   "source": [
    "import numpy as np\n",
    "import pandas as pd\n",
    "\n",
    "from sklearn.neighbors import KNeighborsRegressor\n",
    "from sklearn.model_selection import KFold, GridSearchCV\n",
    "from sklearn.metrics import mean_squared_error"
   ]
  },
  {
   "cell_type": "code",
   "execution_count": 2,
   "metadata": {},
   "outputs": [],
   "source": [
    "train = pd.read_csv('../data/train.csv')"
   ]
  },
  {
   "cell_type": "code",
   "execution_count": 3,
   "metadata": {},
   "outputs": [],
   "source": [
    "def rmse(pred, actual):\n",
    "    return np.sqrt(mean_squared_error(pred, actual))"
   ]
  },
  {
   "cell_type": "code",
   "execution_count": 4,
   "metadata": {},
   "outputs": [],
   "source": [
    "kfold = KFold(n_splits=5)"
   ]
  },
  {
   "cell_type": "markdown",
   "metadata": {},
   "source": [
    "### Simple KNeighborsRegressor"
   ]
  },
  {
   "cell_type": "code",
   "execution_count": 6,
   "metadata": {},
   "outputs": [
    {
     "name": "stdout",
     "output_type": "stream",
     "text": [
      "[98.71587979778246, 85.07751519659098, 246.19921948639916, 251.4279111882935, 246.4838796849063]\n",
      "185.58088107079448\n"
     ]
    }
   ],
   "source": [
    "knn = KNeighborsRegressor()\n",
    "err = []\n",
    "\n",
    "for train_idx, test_idx in kfold.split(train):\n",
    "    train_x = train.iloc[train_idx, :-1]\n",
    "    test_x = train.iloc[test_idx, :-1]\n",
    "\n",
    "    train_y = train.iloc[train_idx, -1]\n",
    "    test_y = train.iloc[test_idx, -1]\n",
    "\n",
    "    knn.fit(train_x, train_y)\n",
    "    y_pred = knn.predict(test_x)\n",
    "    err.append(rmse(y_pred, test_y))\n",
    "\n",
    "print(err)\n",
    "print(np.mean(err))"
   ]
  },
  {
   "cell_type": "markdown",
   "metadata": {},
   "source": [
    "### Hyperparameter selection for KNeighborsRegressor"
   ]
  },
  {
   "cell_type": "code",
   "execution_count": 9,
   "metadata": {},
   "outputs": [
    {
     "name": "stdout",
     "output_type": "stream",
     "text": [
      "{'n_neighbors': 5, 'p': 1, 'weights': 'distance'}\n"
     ]
    },
    {
     "name": "stderr",
     "output_type": "stream",
     "text": [
      "C:\\Users\\TNG\\Anaconda3\\lib\\site-packages\\sklearn\\model_selection\\_search.py:814: DeprecationWarning: The default of the `iid` parameter will change from True to False in version 0.22 and will be removed in 0.24. This will change numeric results when test-set sizes are unequal.\n",
      "  DeprecationWarning)\n"
     ]
    }
   ],
   "source": [
    "param = {\n",
    "    'n_neighbors': np.arange(5,30,5),\n",
    "    'weights': ['uniform', 'distance'],\n",
    "    'p': [1,2,3],\n",
    "}\n",
    "\n",
    "grid_search = GridSearchCV(KNeighborsRegressor(), param_grid=param, cv=5)\n",
    "grid_search.fit(train.iloc[:,:-1], train.iloc[:,-1])\n",
    "knn = grid_search.best_estimator_\n",
    "best_param = grid_search.best_params_\n",
    "\n",
    "print(best_param)"
   ]
  },
  {
   "cell_type": "code",
   "execution_count": 12,
   "metadata": {},
   "outputs": [
    {
     "name": "stdout",
     "output_type": "stream",
     "text": [
      "[78.67688342818211, 62.17543516280433, 216.26837258801183, 218.41305295559536, 212.19835017626386]\n",
      "157.5464188621715\n"
     ]
    }
   ],
   "source": [
    "err = []\n",
    "\n",
    "for train_idx, test_idx in kfold.split(train):\n",
    "    train_x = train.iloc[train_idx, :-1]\n",
    "    test_x = train.iloc[test_idx, :-1]\n",
    "\n",
    "    train_y = train.iloc[train_idx, -1]\n",
    "    test_y = train.iloc[test_idx, -1]\n",
    "\n",
    "    knn = KNeighborsRegressor(n_neighbors=5, p=1, weights='distance')\n",
    "    knn.fit(train_x, train_y)\n",
    "    y_pred = knn.predict(test_x)\n",
    "    err.append(rmse(y_pred, test_y))\n",
    "\n",
    "print(err)\n",
    "print(np.mean(err))"
   ]
  },
  {
   "cell_type": "markdown",
   "metadata": {},
   "source": [
    "<h2>Accuracy of KNeighborsRegressor on Test set</h2>"
   ]
  },
  {
   "cell_type": "code",
   "execution_count": null,
   "metadata": {},
   "outputs": [],
   "source": [
    "test = pd.read_csv('../data/test.csv')\n",
    "\n",
    "print(\"RMSE for RF: \", rmse(knn.predict(test.iloc[:,:-1]), test.iloc[:,-1]))"
   ]
  },
  {
   "cell_type": "markdown",
   "metadata": {},
   "source": [
    "## Conclusion\n",
    "<p>The optimal hyperparameters are:\n",
    "<ul>\n",
    "    <li>n_neighbors = 5</li>\n",
    "    <li>p = 1</li>\n",
    "    <li>weights = 'distance'</li>\n",
    "</ul>\n",
    "\n",
    "<p>The average RMSE is 157.546.</p>"
   ]
  },
  {
   "cell_type": "code",
   "execution_count": null,
   "metadata": {},
   "outputs": [],
   "source": []
  }
 ],
 "metadata": {
  "kernelspec": {
   "display_name": "Python 3",
   "language": "python",
   "name": "python3"
  },
  "language_info": {
   "codemirror_mode": {
    "name": "ipython",
    "version": 3
   },
   "file_extension": ".py",
   "mimetype": "text/x-python",
   "name": "python",
   "nbconvert_exporter": "python",
   "pygments_lexer": "ipython3",
   "version": "3.6.10"
  }
 },
 "nbformat": 4,
 "nbformat_minor": 2
}
