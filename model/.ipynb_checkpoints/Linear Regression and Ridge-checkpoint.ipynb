{
 "cells": [
  {
   "cell_type": "code",
   "execution_count": 1,
   "metadata": {},
   "outputs": [],
   "source": [
    "import numpy as np\n",
    "import pandas as pd\n",
    "\n",
    "from sklearn.model_selection import KFold, train_test_split\n",
    "from sklearn.metrics import mean_squared_error\n",
    "from sklearn.preprocessing import PolynomialFeatures\n",
    "from sklearn.linear_model import LinearRegression, Ridge"
   ]
  },
  {
   "cell_type": "code",
   "execution_count": 2,
   "metadata": {},
   "outputs": [],
   "source": [
    "def rmse(pred, actual):\n",
    "    return np.sqrt(mean_squared_error(pred, actual))"
   ]
  },
  {
   "cell_type": "markdown",
   "metadata": {},
   "source": [
    "### Import our train data"
   ]
  },
  {
   "cell_type": "code",
   "execution_count": 3,
   "metadata": {},
   "outputs": [],
   "source": [
    "train = pd.read_csv('../data/train.csv')"
   ]
  },
  {
   "cell_type": "code",
   "execution_count": 7,
   "metadata": {},
   "outputs": [],
   "source": [
    "kfold = KFold(n_splits=5)"
   ]
  },
  {
   "cell_type": "markdown",
   "metadata": {},
   "source": [
    "### Simple Linear Regression"
   ]
  },
  {
   "cell_type": "code",
   "execution_count": 19,
   "metadata": {},
   "outputs": [
    {
     "name": "stdout",
     "output_type": "stream",
     "text": [
      "RMSE:  [183.51993345808003, 190.8911706815273, 294.9018827362626, 303.3079108752656, 306.1510613309703]\n",
      "Average RMSE:  255.7543918164212\n"
     ]
    }
   ],
   "source": [
    "err = []\n",
    "\n",
    "for train_idx, test_idx in kfold.split(train):\n",
    "    train_x = train.iloc[train_idx, :-1]\n",
    "    train_y = train.iloc[train_idx, -1]\n",
    "    test_x = train.iloc[test_idx, :-1]\n",
    "    test_y = train.iloc[test_idx, -1]\n",
    "    \n",
    "    linreg = LinearRegression()\n",
    "    linreg.fit(train_x, train_y)\n",
    "    y_pred = linreg.predict(test_x)\n",
    "    err.append(rmse(y_pred, test_y))\n",
    "\n",
    "print(\"RMSE: \", err)\n",
    "print(\"Average RMSE: \", np.mean(err))"
   ]
  },
  {
   "cell_type": "markdown",
   "metadata": {},
   "source": [
    "### Now, we try higher degrees to improve our accuracy"
   ]
  },
  {
   "cell_type": "code",
   "execution_count": 20,
   "metadata": {},
   "outputs": [
    {
     "name": "stdout",
     "output_type": "stream",
     "text": [
      "RMSE for degree  2 :  [88.41748455524154, 89.21247619975938, 251.24691769466733, 266.33273255144263, 268.1805491121271]\n",
      "Average RMSE for degree  2 :  192.6780320226476\n",
      "\n",
      "RMSE for degree  3 :  [103.28033356035864, 101.12303204721815, 241.87885584201877, 257.99370919548073, 267.2928094051513]\n",
      "Average RMSE for degree  3 :  194.31374801004552\n",
      "\n",
      "RMSE for degree  4 :  [4906.892975863304, 192.4328681635377, 299.20256565444356, 2948.953166201464, 330.4197492023406]\n",
      "Average RMSE for degree  4 :  1735.5802650170183\n",
      "\n",
      "RMSE for degree  5 :  [1531.5930070275613, 759.5850068539391, 475.9962488494986, 6459.83894257086, 643.4994768632502]\n",
      "Average RMSE for degree  5 :  1974.1025364330217\n",
      "\n",
      "RMSE for degree  6 :  [8708.351399615136, 531.4982330515871, 524.6226320234839, 2429.6345017642293, 1652.9240092441362]\n",
      "Average RMSE for degree  6 :  2769.4061551397144\n",
      "\n"
     ]
    }
   ],
   "source": [
    "deg = [2,3,4,5,6]\n",
    "\n",
    "for d in deg:\n",
    "    \n",
    "    err = []\n",
    "\n",
    "    for train_idx, test_idx in kfold.split(train):\n",
    "        \n",
    "        poly = PolynomialFeatures(degree=d)\n",
    "        \n",
    "        train_x = train.iloc[train_idx, :-1]\n",
    "        train_y = train.iloc[train_idx, -1]\n",
    "        test_x = train.iloc[test_idx, :-1]\n",
    "        test_y = train.iloc[test_idx, -1]\n",
    "        \n",
    "        train_x = poly.fit_transform(train_x)\n",
    "        test_x = poly.transform(test_x)\n",
    "\n",
    "        linreg = LinearRegression()\n",
    "        linreg.fit(train_x, train_y)\n",
    "        y_pred = linreg.predict(test_x)\n",
    "        err.append(rmse(y_pred, test_y))\n",
    "\n",
    "    print(\"RMSE for degree \", d, \": \", err)\n",
    "    print(\"Average RMSE for degree \", d, \": \", np.mean(err))\n",
    "    print()"
   ]
  },
  {
   "cell_type": "markdown",
   "metadata": {},
   "source": [
    "<p>The RMSE for lower degrees is decent. However, it exploded from 4 onwards due to high variance.</p>\n",
    "<p>To prevent overfitting while lowering bias, we can include a regularisation parameter. This can be achieved with the Ridge Regresssion.</p>"
   ]
  },
  {
   "cell_type": "markdown",
   "metadata": {},
   "source": [
    "### Ridge Regression with GridSearch"
   ]
  },
  {
   "cell_type": "code",
   "execution_count": 12,
   "metadata": {
    "scrolled": true
   },
   "outputs": [
    {
     "name": "stdout",
     "output_type": "stream",
     "text": [
      "RMSE for degree 2, alpha 0.001: [117.51086177017918, 85.3749667330402, 223.4577987928067, 281.9767657021247, 236.83143214207678]\n",
      "Average RMSE for degree 2, alpha 0.001: 189.0303650280455\n",
      "\n",
      "RMSE for degree 3, alpha 0.001: [288.7237866064351, 95.43917540462675, 210.72844534424766, 786.603823811369, 225.7566316968845]\n",
      "Average RMSE for degree 3, alpha 0.001: 321.4503725727126\n",
      "\n",
      "RMSE for degree 4, alpha 0.001: [78212.02853878315, 869.5221092148257, 3456.625311208309, 12249.999134539996, 4872.002513735793]\n",
      "Average RMSE for degree 4, alpha 0.001: 19932.035521496415\n",
      "\n",
      "RMSE for degree 5, alpha 0.001: [254326.09481663664, 29616.00876609183, 20394.348306110507, 17900.74215331261, 59239.016289980835]\n",
      "Average RMSE for degree 5, alpha 0.001: 76295.2420664265\n",
      "\n",
      "RMSE for degree 2, alpha 0.01: [117.32332137000499, 85.36482375499963, 223.45309907635817, 280.51507306086745, 236.83283221092054]\n",
      "Average RMSE for degree 2, alpha 0.01: 188.69782989463016\n",
      "\n",
      "RMSE for degree 3, alpha 0.01: [236.60983234963524, 94.17498137586668, 210.4724276006243, 1201.8319945176163, 223.63417509689202]\n",
      "Average RMSE for degree 3, alpha 0.01: 393.3446821881269\n",
      "\n",
      "RMSE for degree 4, alpha 0.01: [8800.400418224328, 549.04160996855, 2126.9289421313347, 9751.81797540741, 941.3747194793945]\n",
      "Average RMSE for degree 4, alpha 0.01: 4433.912733042203\n",
      "\n",
      "RMSE for degree 5, alpha 0.01: [53038.3064436548, 7633.120341773913, 7837.240341715442, 15860.05937929556, 25705.72711467014]\n",
      "Average RMSE for degree 5, alpha 0.01: 22014.890724221972\n",
      "\n",
      "RMSE for degree 2, alpha 0.1: [115.7087919839383, 85.27627466095313, 223.41026386462627, 270.16693973439095, 236.84618817484028]\n",
      "Average RMSE for degree 2, alpha 0.1: 186.28169168374978\n",
      "\n",
      "RMSE for degree 3, alpha 0.1: [191.25217752470803, 93.15696265489473, 210.70842580460786, 688.8135385011391, 222.82965709987337]\n",
      "Average RMSE for degree 3, alpha 0.1: 281.35215231704467\n",
      "\n",
      "RMSE for degree 4, alpha 0.1: [8582.879825720169, 491.6916798104716, 953.6334299215214, 2376.6467290163446, 625.9183291014779]\n",
      "Average RMSE for degree 4, alpha 0.1: 2606.153998713997\n",
      "\n",
      "RMSE for degree 5, alpha 0.1: [20970.156100228967, 6313.543093415857, 2782.406650699477, 2835.235558558469, 9166.983244653693]\n",
      "Average RMSE for degree 5, alpha 0.1: 8413.664929511293\n",
      "\n",
      "RMSE for degree 2, alpha 1.0: [107.58521244613546, 84.81870219730692, 223.1581221239667, 250.49837432552874, 236.94708689218177]\n",
      "Average RMSE for degree 2, alpha 1.0: 180.60149959702392\n",
      "\n",
      "RMSE for degree 3, alpha 1.0: [189.70587128109148, 90.91104597788983, 209.59480292951156, 235.28987815866142, 219.42652304799202]\n",
      "Average RMSE for degree 3, alpha 1.0: 188.98562427902925\n",
      "\n",
      "RMSE for degree 4, alpha 1.0: [4528.783996217975, 333.35713756541077, 487.628318796232, 1555.0854255005715, 353.5525657745485]\n",
      "Average RMSE for degree 4, alpha 1.0: 1451.6814887709475\n",
      "\n",
      "RMSE for degree 5, alpha 1.0: [18262.753422085458, 3293.683426885775, 1443.665004390906, 6516.873886872192, 2422.73890779324]\n",
      "Average RMSE for degree 5, alpha 1.0: 6387.942929605514\n",
      "\n",
      "RMSE for degree 2, alpha 10.0: [93.26866933731762, 83.2823668558601, 222.615842713752, 243.79290153477365, 237.396787050126]\n",
      "Average RMSE for degree 2, alpha 10.0: 176.07131349836587\n",
      "\n",
      "RMSE for degree 3, alpha 10.0: [166.9271885623231, 85.16512371417691, 206.12789875364547, 236.02614615884102, 216.1001868027939]\n",
      "Average RMSE for degree 3, alpha 10.0: 182.06930879835608\n",
      "\n",
      "RMSE for degree 4, alpha 10.0: [800.5388345503371, 196.2502952931055, 362.540495837052, 600.1080502916373, 252.64044924835324]\n",
      "Average RMSE for degree 4, alpha 10.0: 442.41562504409706\n",
      "\n",
      "RMSE for degree 5, alpha 10.0: [492.6272812233398, 1656.20540593716, 623.3107341411675, 944.1425436064784, 788.5862168125486]\n",
      "Average RMSE for degree 5, alpha 10.0: 900.9744363441389\n",
      "\n",
      "RMSE for degree 2, alpha 100.0: [88.66560020004344, 82.32733016304717, 222.66100837687918, 242.7790951332525, 239.32047788308023]\n",
      "Average RMSE for degree 2, alpha 100.0: 175.1507023512605\n",
      "\n",
      "RMSE for degree 3, alpha 100.0: [117.3431301423448, 81.58417641000969, 204.3643119167182, 229.94825696309454, 217.85569393188345]\n",
      "Average RMSE for degree 3, alpha 100.0: 170.21911387281014\n",
      "\n",
      "RMSE for degree 4, alpha 100.0: [324.2128531107875, 120.71845839792208, 262.29304139646854, 242.86067130221045, 229.28644809757128]\n",
      "Average RMSE for degree 4, alpha 100.0: 235.87429446099196\n",
      "\n",
      "RMSE for degree 5, alpha 100.0: [3348.342945570009, 817.1921821299467, 338.40084058068294, 416.88762418852315, 481.87649492659995]\n",
      "Average RMSE for degree 5, alpha 100.0: 1080.540017479152\n",
      "\n",
      "RMSE for degree 2, alpha 1000.0: [134.36480305288916, 130.83996991284943, 235.50859865439222, 255.36075213924323, 252.63192143179992]\n",
      "Average RMSE for degree 2, alpha 1000.0: 201.74120903823479\n",
      "\n",
      "RMSE for degree 3, alpha 1000.0: [112.0482283843653, 117.83475199566038, 213.45440845285293, 238.09098800942718, 231.15663533576165]\n",
      "Average RMSE for degree 3, alpha 1000.0: 182.5170024356135\n",
      "\n",
      "RMSE for degree 4, alpha 1000.0: [789.573360264556, 105.69985974827789, 214.97765108854446, 261.10670677415584, 224.35674311439996]\n",
      "Average RMSE for degree 4, alpha 1000.0: 319.1428641979868\n",
      "\n",
      "RMSE for degree 5, alpha 1000.0: [158.60286052278917, 143.66671180302754, 278.9592343337994, 389.9205997684974, 401.57991126746083]\n",
      "Average RMSE for degree 5, alpha 1000.0: 274.54586353911486\n",
      "\n"
     ]
    }
   ],
   "source": [
    "deg = [2,3,4,5]\n",
    "logalpha = np.arange(-3, 4, 1.0)\n",
    "alpha = 10.0 ** logalpha\n",
    "\n",
    "m = len(alpha)\n",
    "n = len(deg)\n",
    "grid_err = np.array([0] * (m*n)).reshape(m, n)\n",
    "i = j = 0\n",
    "\n",
    "for a in alpha:\n",
    "    j=0\n",
    "    for d in deg:\n",
    "    \n",
    "        err = []\n",
    "        poly = PolynomialFeatures(degree=d)\n",
    "        X = poly.fit_transform(train.iloc[:,:-1])\n",
    "\n",
    "        for train_idx, test_idx in kfold.split(X):\n",
    "\n",
    "            train_x = X[train_idx]\n",
    "            train_y = train.iloc[train_idx, -1]\n",
    "            test_x = X[test_idx]\n",
    "            test_y = train.iloc[test_idx, -1]\n",
    "\n",
    "            linreg = Ridge(alpha=a)\n",
    "            linreg.fit(train_x, train_y)\n",
    "            y_pred = linreg.predict(test_x)\n",
    "            err.append(rmse(y_pred, test_y))\n",
    "            \n",
    "        grid_err[i, j] = np.mean(err)\n",
    "        print(\"RMSE for degree {}, alpha {}: {}\".format(d, a, err))\n",
    "        print(\"Average RMSE for degree {}, alpha {}: {}\".format(d, a, np.mean(err)))\n",
    "        print()\n",
    "        j += 1\n",
    "        \n",
    "    i += 1"
   ]
  },
  {
   "cell_type": "code",
   "execution_count": 13,
   "metadata": {},
   "outputs": [
    {
     "name": "stdout",
     "output_type": "stream",
     "text": [
      "(5, 1)\n",
      "Best alpha:  100.0\n",
      "Best degree:  3\n",
      "Min error:  170\n"
     ]
    }
   ],
   "source": [
    "min_index = np.unravel_index(grid_err.argmin(), grid_err.shape)\n",
    "print(min_index)\n",
    "print(\"Best alpha: \", alpha[min_index[0]])\n",
    "print(\"Best degree: \", deg[min_index[1]])\n",
    "print(\"Min error: \", grid_err[min_index])"
   ]
  },
  {
   "cell_type": "markdown",
   "metadata": {},
   "source": [
    "<p>The best hyperparameters for Ridge Regression are alpha=100 and degree=3.</p>"
   ]
  },
  {
   "cell_type": "markdown",
   "metadata": {},
   "source": [
    "<h2>Accuracy of Ridge Regression on Test set</h2>"
   ]
  },
  {
   "cell_type": "code",
   "execution_count": null,
   "metadata": {},
   "outputs": [],
   "source": [
    "test = pd.read_csv('../data/test.csv')\n",
    "print(\"RMSE for Ridge: \", rmse(ridge_a.predict(PolynomialFeatures(degree=3).fit_transform(test.iloc[:,:-1])), test.iloc[:,-1]))"
   ]
  },
  {
   "cell_type": "markdown",
   "metadata": {},
   "source": [
    "## Conclusion"
   ]
  },
  {
   "cell_type": "markdown",
   "metadata": {},
   "source": [
    "<p>By using polynomial terms and a regularisation parameter to reduce overfitting, the RMSE is reduced from 255.754 to 170. However, this still means that for an apartment of 1000 sqft, the error in price is as large as 170,000. Hence, we need to seek for models with much lower bias, while at the same time keeping variance low.</p>"
   ]
  },
  {
   "cell_type": "code",
   "execution_count": null,
   "metadata": {},
   "outputs": [],
   "source": []
  }
 ],
 "metadata": {
  "kernelspec": {
   "display_name": "Python 3",
   "language": "python",
   "name": "python3"
  },
  "language_info": {
   "codemirror_mode": {
    "name": "ipython",
    "version": 3
   },
   "file_extension": ".py",
   "mimetype": "text/x-python",
   "name": "python",
   "nbconvert_exporter": "python",
   "pygments_lexer": "ipython3",
   "version": "3.6.10"
  }
 },
 "nbformat": 4,
 "nbformat_minor": 2
}
